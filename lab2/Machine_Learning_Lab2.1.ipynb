{
 "cells": [
  {
   "cell_type": "code",
   "execution_count": 1,
   "metadata": {
    "collapsed": true
   },
   "outputs": [],
   "source": [
    "# download the train dataset\n",
    "import requests\n",
    "import numpy as np\n",
    "r = requests.get('''https://www.csie.ntu.edu.tw/~cjlin/libsvmtools/datasets/binary/a9a''')\n",
    "\n",
    "# load the train dataset\n",
    "from sklearn.datasets import load_svmlight_file\n",
    "from io import BytesIO\n",
    "\n",
    "X_train,y_train = load_svmlight_file(f=BytesIO(r.content), n_features=123)#y读取了数据样本标签值，x读取了数据中的属性值\n",
    "X_train=X_train.toarray()\n",
    "y_train=y_train.reshape((-1,1))#从(32561,)变为（32561，1）即：从向量变为矩阵\n",
    "train_sample_num,n_features=X_train.shape\n",
    "X_train = np.column_stack((np.ones((train_sample_num, 1)),X_train))#添加一列全1，作为偏置列"
   ]
  },
  {
   "cell_type": "code",
   "execution_count": 2,
   "metadata": {},
   "outputs": [
    {
     "data": {
      "text/plain": [
       "(16281, 124)"
      ]
     },
     "execution_count": 2,
     "metadata": {},
     "output_type": "execute_result"
    }
   ],
   "source": [
    "#download the testing dataset\n",
    "r_t=requests.get('https://www.csie.ntu.edu.tw/~cjlin/libsvmtools/datasets/binary/a9a.t')\n",
    "X_evl,y_evl=load_svmlight_file(f=BytesIO(r_t.content),n_features=123)\n",
    "X_evl=X_evl.toarray()\n",
    "y_evl=y_evl.reshape((-1,1))\n",
    "evl_sample_num,n_features=X_evl.shape\n",
    "X_evl = np.column_stack((np.ones((evl_sample_num, 1)),X_evl))#添加一列全1，作为偏置列\n",
    "X_evl.shape"
   ]
  },
  {
   "cell_type": "code",
   "execution_count": 3,
   "metadata": {
    "collapsed": true
   },
   "outputs": [],
   "source": [
    "#initialize the w parameter\n",
    "import random\n",
    "# select different initializing method\n",
    "# w = np.zeros((n_features+1, 1))  # initialize with zeros\n",
    "w = np.random.random((n_features+1, 1))  # initialize with random numbers\n",
    "# w = np.random.normal(1, 1, size=(n_features+1, 1))  # initialize with zero normal distribution"
   ]
  },
  {
   "cell_type": "code",
   "execution_count": 4,
   "metadata": {
    "collapsed": true
   },
   "outputs": [],
   "source": [
    "#define the superparameter\n",
    "batch_size=120\n",
    "epoch=500\n",
    "learning_rate=0.0005\n",
    "threshold=0.5\n",
    "\n",
    "Lvalidation=[]"
   ]
  },
  {
   "cell_type": "code",
   "execution_count": 5,
   "metadata": {
    "collapsed": true
   },
   "outputs": [],
   "source": [
    "# #train使用随机选择的一批连续样本\n",
    "# for i in range(epoch):\n",
    "#     start=random.randint(0,train_sample_num-batch_size-1)\n",
    "#     end=start+batch_size\n",
    "#     X=X_train[start:end]#一批数量为120的连续样本\n",
    "#     y=y_train[start:end]\n",
    "#     add_grad=np.zeros((n_features+1,1))\n",
    "#     for j in range(batch_size):\n",
    "#         e=np.exp(-y[j]*np.dot(w.T,X[j].T))\n",
    "#         temp=y[j]*X[j].T\n",
    "#         temp=temp.reshape((-1,1))\n",
    "#         add_grad += -(temp*e/(1+e))    \n",
    "#     grad=-add_grad\n",
    "#     grad=grad.reshape((-1,1))\n",
    "#     w+=learning_rate*grad\n",
    "    \n",
    "#     add_loss=0\n",
    "#     for k in range(batch_size):\n",
    "#         X_t=X_test[k+120].reshape((-1,1))\n",
    "#         y_t=y_test[k+120].reshape((-1,1))\n",
    "#         add_loss+=np.log(1+np.exp(-y_t*np.dot(w.T,X_t)))\n",
    "#     Lvalidation.append(add_loss[0][0]/batch_size)"
   ]
  },
  {
   "cell_type": "code",
   "execution_count": 6,
   "metadata": {
    "collapsed": true
   },
   "outputs": [],
   "source": [
    "#train使用随机抽取的一批非连续样本\n",
    "for i in range(epoch):\n",
    "    random_index=np.arange(X_train.shape[0])\n",
    "    np.random.shuffle(random_index)\n",
    "    add_grad=np.zeros((n_features+1,1))\n",
    "    for j in range(batch_size):\n",
    "        X=X_train[random_index[j]].reshape((-1,1))\n",
    "        y=y_train[random_index[j]].reshape((-1,1))\n",
    "        e=np.exp(-y*np.dot(w.T,X))\n",
    "        temp=y*X\n",
    "        temp=temp.reshape((-1,1))\n",
    "        add_grad += -(temp*e/(1+e)) \n",
    "    grad=-add_grad.reshape((-1,1))\n",
    "    w+=learning_rate*grad\n",
    "    \n",
    "    add_loss=0\n",
    "    for k in range(batch_size):\n",
    "        X_t=X_evl[k].reshape((-1,1))\n",
    "        y_t=y_evl[k].reshape((-1,1))\n",
    "        add_loss+=np.log(1+np.exp(-y_t*np.dot(w.T,X_t)))\n",
    "    Lvalidation.append(add_loss[0][0]/batch_size)"
   ]
  },
  {
   "cell_type": "code",
   "execution_count": 54,
   "metadata": {
    "scrolled": true
   },
   "outputs": [
    {
     "name": "stdout",
     "output_type": "stream",
     "text": [
      "准确率：84.75%\n"
     ]
    }
   ],
   "source": [
    "#evaluation\n",
    "random_index=np.arange(X_evl.shape[0])\n",
    "np.random.shuffle(random_index)\n",
    "hit=0\n",
    "test_size=1200\n",
    "for i in range(test_size):\n",
    "    X=X_evl[random_index[i]].reshape((-1,1))\n",
    "    y=y_evl[random_index[i]].reshape((-1,1))\n",
    "    p=np.exp(np.dot(w.T,X))/(1+np.exp(np.dot(w.T,X)))\n",
    "    if p[0][0]>=threshold and y[0][0]==1:\n",
    "        hit+=1\n",
    "    elif p[0][0]<threshold and y[0][0]==-1:\n",
    "        hit+=1\n",
    "print(\"准确率：{:.2f}%\".format((hit/test_size)*100))"
   ]
  },
  {
   "cell_type": "code",
   "execution_count": 32,
   "metadata": {},
   "outputs": [
    {
     "data": {
      "text/plain": [
       "<matplotlib.text.Text at 0x17c262db518>"
      ]
     },
     "execution_count": 32,
     "metadata": {},
     "output_type": "execute_result"
    },
    {
     "data": {
      "image/png": "[encoded data removed]",
      "text/plain": [
       "<matplotlib.figure.Figure at 0x17c2609f358>"
      ]
     },
     "metadata": {},
     "output_type": "display_data"
    }
   ],
   "source": [
    "%matplotlib inline \n",
    "#只在notebook中才有用，意思是在直接python console里面生成图像\n",
    "\n",
    "import matplotlib.pyplot as plt\n",
    "\n",
    "plt.figure(figsize=(10, 6))\n",
    "plt.plot(Lvalidation, \"-\", color=\"g\", label=\"Lvalidation\")\n",
    "plt.xlabel(\"epoch\")\n",
    "plt.ylabel(\"loss\")\n",
    "plt.legend()\n",
    "plt.title(\"The graph is the change of loss value \")"
   ]
  },
  {
   "cell_type": "code",
   "execution_count": null,
   "metadata": {
    "collapsed": true
   },
   "outputs": [],
   "source": []
  }
 ],
 "metadata": {
  "kernelspec": {
   "display_name": "Python 3",
   "language": "python",
   "name": "python3"
  },
  "language_info": {
   "codemirror_mode": {
    "name": "ipython",
    "version": 3
   },
   "file_extension": ".py",
   "mimetype": "text/x-python",
   "name": "python",
   "nbconvert_exporter": "python",
   "pygments_lexer": "ipython3",
   "version": "3.6.12"
  }
 },
 "nbformat": 4,
 "nbformat_minor": 2
}
