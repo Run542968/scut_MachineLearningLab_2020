{
 "cells": [
  {
   "cell_type": "code",
   "execution_count": 1,
   "metadata": {
    "collapsed": true
   },
   "outputs": [],
   "source": [
    "# download the train dataset\n",
    "import requests\n",
    "import numpy as np\n",
    "r = requests.get('''https://www.csie.ntu.edu.tw/~cjlin/libsvmtools/datasets/binary/a9a''')\n",
    "\n",
    "# load the train dataset\n",
    "from sklearn.datasets import load_svmlight_file\n",
    "from io import BytesIO\n",
    "\n",
    "X_train,y_train = load_svmlight_file(f=BytesIO(r.content), n_features=123)#y读取了数据样本标签值，x读取了数据中的属性值\n",
    "X_train=X_train.toarray()\n",
    "y_train=y_train.reshape((-1,1))#从(32561,)变为（32561，1）即：从向量变为矩阵\n",
    "train_sample_num,n_features=X_train.shape\n",
    "X_train = np.column_stack((np.ones((train_sample_num, 1)),X_train))#添加一列全1，作为偏置列"
   ]
  },
  {
   "cell_type": "code",
   "execution_count": 2,
   "metadata": {},
   "outputs": [
    {
     "data": {
      "text/plain": [
       "(16281, 124)"
      ]
     },
     "execution_count": 2,
     "metadata": {},
     "output_type": "execute_result"
    }
   ],
   "source": [
    "#download the testing dataset\n",
    "r_t=requests.get('https://www.csie.ntu.edu.tw/~cjlin/libsvmtools/datasets/binary/a9a.t')\n",
    "X_val,y_val=load_svmlight_file(f=BytesIO(r_t.content),n_features=123)\n",
    "X_val=X_val.toarray()\n",
    "y_val=y_val.reshape((-1,1))\n",
    "val_sample_num,n_features=X_val.shape\n",
    "X_val = np.column_stack((np.ones((val_sample_num, 1)),X_val))#添加一列全1，作为偏置列\n",
    "X_val.shape"
   ]
  },
  {
   "cell_type": "code",
   "execution_count": 3,
   "metadata": {
    "collapsed": true
   },
   "outputs": [],
   "source": [
    "#initialize the w parameter\n",
    "import random\n",
    "# select different initializing method\n",
    "w = np.zeros((n_features+1, 1))  # initialize with zeros\n",
    "# w = np.random.random((n_features+1, 1))  # initialize with random numbers\n",
    "# w = np.random.normal(1, 1, size=(n_features+1, 1))  # initialize with zero normal distribution"
   ]
  },
  {
   "cell_type": "code",
   "execution_count": 4,
   "metadata": {},
   "outputs": [],
   "source": [
    "#define the superparameter\n",
    "batch_size=120\n",
    "epoch=200\n",
    "learning_rate=0.0005\n",
    "C=0.5\n",
    "threshold=0\n",
    "\n",
    "Lvalidation=[]"
   ]
  },
  {
   "cell_type": "code",
   "execution_count": 5,
   "metadata": {
    "collapsed": true
   },
   "outputs": [],
   "source": [
    "#train\n",
    "for i in range(epoch):\n",
    "    random_index=np.arange(train_sample_num)\n",
    "    np.random.shuffle(random_index)\n",
    "\n",
    "    add_grad=np.zeros((n_features+1,1))\n",
    "    for j in range(batch_size):\n",
    "        X_j=X_train[random_index[j]].reshape((-1,1))#X[j]是一个向量，要使用reshape把（124，）转为（124，1）的矩阵\n",
    "        y_j=y_train[random_index[j]].reshape((-1,1))\n",
    "        if((1-y_j*np.dot(w.T,X_j))>=0):      \n",
    "            add_grad+=-y_j*X_j\n",
    "        else:\n",
    "            add_grad+=np.zeros((n_features+1,1))\n",
    "    grad=-(C/batch_size)*add_grad\n",
    "    grad=grad.reshape((-1,1))\n",
    "    w+=learning_rate*grad\n",
    "    \n",
    "    hinge_add_loss=np.zeros((1,1))\n",
    "    for k in range(batch_size):\n",
    "        X_k=X_val[k].reshape((-1,1))#X[j]是一个向量，要使用reshape把（124，）转为（124，1）矩阵\n",
    "        y_k=y_val[k].reshape((-1,1))\n",
    "        if((1-y_k*np.dot(w.T,X_k))>=0):\n",
    "            hinge_add_loss+=1-y_k*np.dot(w.T,X_k)\n",
    "        else:\n",
    "            hinge_add_loss+=np.zeros((1,1))\n",
    "    loss=0.5*np.square(np.linalg.norm(w))+(C/batch_size)*hinge_add_loss[0]\n",
    "    Lvalidation.append(loss)"
   ]
  },
  {
   "cell_type": "code",
   "execution_count": 6,
   "metadata": {},
   "outputs": [
    {
     "name": "stdout",
     "output_type": "stream",
     "text": [
      "准确率：74.42%\n"
     ]
    }
   ],
   "source": [
    "#evaluation\n",
    "random_index=np.arange(X_val.shape[0])\n",
    "np.random.shuffle(random_index)\n",
    "hit=0\n",
    "test_size=1200\n",
    "for i in range(test_size):\n",
    "    X=X_val[random_index[i]].reshape((-1,1))\n",
    "    y=y_val[random_index[i]].reshape((-1,1))\n",
    "    p=np.dot(w.T,X)\n",
    "    if p[0][0]>=threshold and y[0][0]==1:\n",
    "        hit+=1\n",
    "    elif p[0][0]<threshold and y[0][0]==-1:\n",
    "        hit+=1\n",
    "print(\"准确率：{:.2f}%\".format((hit/test_size)*100))"
   ]
  },
  {
   "cell_type": "code",
   "execution_count": 7,
   "metadata": {},
   "outputs": [
    {
     "data": {
      "text/plain": [
       "<matplotlib.text.Text at 0x22928efd390>"
      ]
     },
     "execution_count": 7,
     "metadata": {},
     "output_type": "execute_result"
    },
    {
     "data": {
      "image/png": "[encoded data removed]",
      "text/plain": [
       "<matplotlib.figure.Figure at 0x22927eaee80>"
      ]
     },
     "metadata": {},
     "output_type": "display_data"
    }
   ],
   "source": [
    "%matplotlib inline \n",
    "#只在notebook中才有用，意思是在直接python console里面生成图像\n",
    "\n",
    "import matplotlib.pyplot as plt\n",
    "\n",
    "plt.figure(figsize=(10, 6))\n",
    "plt.plot(Lvalidation, \"-\", color=\"g\", label=\"Lvalidation\")\n",
    "plt.xlabel(\"epoch\")\n",
    "plt.ylabel(\"loss\")\n",
    "plt.legend()\n",
    "plt.title(\"The graph is the change of loss value \")"
   ]
  },
  {
   "cell_type": "code",
   "execution_count": null,
   "metadata": {
    "collapsed": true
   },
   "outputs": [],
   "source": []
  }
 ],
 "metadata": {
  "kernelspec": {
   "display_name": "Python 3",
   "language": "python",
   "name": "python3"
  },
  "language_info": {
   "codemirror_mode": {
    "name": "ipython",
    "version": 3
   },
   "file_extension": ".py",
   "mimetype": "text/x-python",
   "name": "python",
   "nbconvert_exporter": "python",
   "pygments_lexer": "ipython3",
   "version": "3.6.12"
  }
 },
 "nbformat": 4,
 "nbformat_minor": 2
}
