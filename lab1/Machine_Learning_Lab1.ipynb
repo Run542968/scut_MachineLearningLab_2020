{
 "cells": [
  {
   "cell_type": "code",
   "execution_count": 1,
   "metadata": {
    "collapsed": true
   },
   "outputs": [],
   "source": [
    "# download the dataset\n",
    "import requests\n",
    "\n",
    "r = requests.get('''https://www.csie.ntu.edu.tw/~cjlin/libsvmtools/datasets/regression/housing_scale''')"
   ]
  },
  {
   "cell_type": "code",
   "execution_count": 2,
   "metadata": {
    "collapsed": true
   },
   "outputs": [],
   "source": [
    "# load the dataset\n",
    "from sklearn.datasets import load_svmlight_file\n",
    "from io import BytesIO\n",
    "\n",
    "X,y = load_svmlight_file(f=BytesIO(r.content), n_features=13)#y读取了数据样本标签值，x读取了数据中的属性值\n",
    "X = X.toarray()"
   ]
  },
  {
   "cell_type": "code",
   "execution_count": 3,
   "metadata": {
    "collapsed": true
   },
   "outputs": [],
   "source": [
    "import numpy\n",
    "\n",
    "# preprocess(预处理)\n",
    "n_samples, n_features = X.shape#shape函数是查看array有多少行，多少列\n",
    "X = numpy.column_stack((numpy.ones((n_samples, 1)),X))#numpy.column_stack作用是把两个array按列合并\n",
    "y = y.reshape((-1, 1))#reshape（r，c）对array重新排列成r行，c列。-1代表未给定，不用考虑"
   ]
  },
  {
   "cell_type": "code",
   "execution_count": 4,
   "metadata": {
    "collapsed": true
   },
   "outputs": [],
   "source": [
    "# divide the train dataset and validation dataset\n",
    "from sklearn.model_selection import train_test_split\n",
    "\n",
    "X_train, X_val, y_train, y_val = train_test_split(X, y, test_size=0.33)"
   ]
  },
  {
   "cell_type": "code",
   "execution_count": 8,
   "metadata": {},
   "outputs": [
    {
     "name": "stdout",
     "output_type": "stream",
     "text": [
      "loss:11.160582012461669\n",
      "loss_train:7.341086740435234\n",
      "loss_val:3.8194952720264337\n"
     ]
    }
   ],
   "source": [
    "#使用训练集数据集求出w的值\n",
    "X_T=X_train.transpose()\n",
    "X_TX=numpy.dot(X_T,X_train)\n",
    "X_TX_inv=numpy.linalg.inv(X_TX)#矩阵求逆\n",
    "X_Ty=numpy.dot(X_T,y_train)\n",
    "w=numpy.dot(X_TX_inv,X_Ty)\n",
    "\n",
    "loss=0.5*numpy.square(numpy.linalg.norm(y-numpy.dot(X,w)))/y.shape[0]\n",
    "print('loss:{0}'.format(loss))\n",
    "\n",
    "loss_train=0.5*numpy.square(numpy.linalg.norm(y_train-numpy.dot(X_train,w)))/y.shape[0]\n",
    "print('loss_train:{0}'.format(loss_train))\n",
    "\n",
    "loss_val=0.5*numpy.square(numpy.linalg.norm(y_val-numpy.dot(X_val,w)))/y.shape[0]\n",
    "print('loss_val:{0}'.format(loss_val))"
   ]
  },
  {
   "cell_type": "code",
   "execution_count": 14,
   "metadata": {
    "collapsed": true
   },
   "outputs": [],
   "source": [
    "penalty_factor = 0.5  # 系数，根据损失函数，系数为0.5\n",
    "learning_rate = 0.0005\n",
    "max_epoch = 30000\n",
    "\n",
    "losses_train = []\n",
    "losses_val = []"
   ]
  },
  {
   "cell_type": "code",
   "execution_count": 15,
   "metadata": {
    "collapsed": true
   },
   "outputs": [],
   "source": [
    "import random\n",
    "# select different initializing method\n",
    "w = numpy.zeros((n_features + 1, 1))  # initialize with zeros\n",
    "# w = numpy.random.random((n_features + 1, 1))  # initialize with random numbers\n",
    "# w = numpy.random.normal(1, 1, size=(n_features + 1, 1))  # initialize with zero normal distribution"
   ]
  },
  {
   "cell_type": "code",
   "execution_count": 16,
   "metadata": {
    "collapsed": true
   },
   "outputs": [],
   "source": [
    "row,col=X_train.shape\n",
    "for epoch in range(max_epoch):\n",
    "    random_num=random.randint(0,row-1)#生成一个随机数\n",
    "    X_random=X_train[random_num]#随机选择一个样本向量\n",
    "    y_random=y_train[random_num]\n",
    "    X_random=numpy.expand_dims(X_random,axis=0)#numpy的array增加维度\n",
    "    diff = y_random-numpy.dot(X_random, w)#dot对于一维向量，是点积、对于二维数组，是矩阵乘法。这里将X_train（379,14）与w(14,1)进行矩阵相乘\n",
    "    G = -numpy.dot(X_random.transpose(), diff)  # transpose（）转置为X_train.transpose()=(14,379)\n",
    "    G = -G\n",
    "    w += learning_rate * G  # update the parametersX\n",
    "\n",
    "    Y_predict = numpy.dot(X_train, w)  # predict under the train set\n",
    "    loss_train=0.5*numpy.square(numpy.linalg.norm(y_train-numpy.dot(X_train,w)))# calculate the absolute differences\n",
    "    losses_train.append(loss_train)\n",
    "\n",
    "    Y_predict = numpy.dot(X_val, w)  # predict under the validation set\n",
    "    loss_val = 0.5*numpy.square(numpy.linalg.norm(y_val-numpy.dot(X_val,w)))  # calculate the absolute differences\n",
    "    losses_val.append(loss_val)"
   ]
  },
  {
   "cell_type": "code",
   "execution_count": 18,
   "metadata": {
    "scrolled": false
   },
   "outputs": [
    {
     "data": {
      "text/plain": [
       "<matplotlib.text.Text at 0x25736ec34a8>"
      ]
     },
     "execution_count": 18,
     "metadata": {},
     "output_type": "execute_result"
    },
    {
     "data": {
      "image/png": "[encoded data removed]",
      "text/plain": [
       "<matplotlib.figure.Figure at 0x25736900470>"
      ]
     },
     "metadata": {},
     "output_type": "display_data"
    }
   ],
   "source": [
    "%matplotlib inline\n",
    "\n",
    "import matplotlib.pyplot as plt\n",
    "\n",
    "plt.figure(figsize=(10, 6))\n",
    "plt.plot(losses_train, \"-\", color=\"g\", label=\"Loss_train\")\n",
    "plt.plot(losses_val, \"-\", color=\"r\", label=\"Loss_val\")\n",
    "plt.xlabel(\"epoch\")\n",
    "plt.ylabel(\"loss\")\n",
    "plt.legend()\n",
    "plt.title(\"The graph is the value change of loss\")"
   ]
  },
  {
   "cell_type": "code",
   "execution_count": null,
   "metadata": {
    "collapsed": true
   },
   "outputs": [],
   "source": []
  },
  {
   "cell_type": "code",
   "execution_count": null,
   "metadata": {
    "collapsed": true
   },
   "outputs": [],
   "source": []
  }
 ],
 "metadata": {
  "kernelspec": {
   "display_name": "Python 3",
   "language": "python",
   "name": "python3"
  },
  "language_info": {
   "codemirror_mode": {
    "name": "ipython",
    "version": 3
   },
   "file_extension": ".py",
   "mimetype": "text/x-python",
   "name": "python",
   "nbconvert_exporter": "python",
   "pygments_lexer": "ipython3",
   "version": "3.6.12"
  }
 },
 "nbformat": 4,
 "nbformat_minor": 2
}
